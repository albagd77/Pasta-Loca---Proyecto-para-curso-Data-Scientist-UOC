{
 "cells": [
  {
   "cell_type": "markdown",
   "metadata": {},
   "source": [
    "### Fitxer de prova"
   ]
  },
  {
   "cell_type": "code",
   "execution_count": null,
   "metadata": {},
   "outputs": [
    {
     "ename": "",
     "evalue": "",
     "output_type": "error",
     "traceback": [
      "\u001b[1;31mRunning cells with 'Python 3.8.9' requires the ipykernel package.\n",
      "\u001b[1;31mRun the following command to install 'ipykernel' into the Python environment. \n",
      "\u001b[1;31mCommand: '/usr/bin/python3 -m pip install ipykernel -U --user --force-reinstall'"
     ]
    }
   ],
   "source": [
    "/usr/bin/python3 -m pip install ipykernel -U --user --force-reinstall"
   ]
  },
  {
   "cell_type": "code",
   "execution_count": null,
   "metadata": {},
   "outputs": [
    {
     "ename": "",
     "evalue": "",
     "output_type": "error",
     "traceback": [
      "\u001b[1;31mRunning cells with 'Python 3.8.9' requires the ipykernel package.\n",
      "\u001b[1;31mRun the following command to install 'ipykernel' into the Python environment. \n",
      "\u001b[1;31mCommand: '/usr/bin/python3 -m pip install ipykernel -U --user --force-reinstall'"
     ]
    }
   ],
   "source": [
    "# Importar librerías necesarias\n",
    "import pandas as pd\n",
    "import seaborn as sns\n",
    "import matplotlib.pyplot as plt\n",
    "\n",
    "# Cargar el dataset principal de solicitudes de adelanto en efectivo\n",
    "cash_request = pd.read_csv('../data/extract - cash request - data analyst.csv')\n",
    "\n",
    "# Inspeccionar la estructura y el tipo de datos de 'cash_request'\n",
    "cash_request.info()"
   ]
  },
  {
   "cell_type": "code",
   "execution_count": null,
   "metadata": {},
   "outputs": [],
   "source": [
    "# Crear una copia del DataFrame para preservar el original\n",
    "cr = cash_request.copy()\n",
    "# Filtrar columnas relevantes para el análisis\n",
    "cr = cr[[\"amount\", \"created_at\", \"user_id\", \"deleted_account_id\",\"transfer_type\"]]\n",
    "cr.info()\n"
   ]
  },
  {
   "cell_type": "code",
   "execution_count": null,
   "metadata": {},
   "outputs": [],
   "source": [
    "# Convertir 'created_at' a tipo datetime para manipulación de fechas\n",
    "cr['created_at'] = pd.to_datetime(cr['created_at'])\n",
    "cr.head()\n"
   ]
  },
  {
   "cell_type": "code",
   "execution_count": null,
   "metadata": {},
   "outputs": [],
   "source": [
    "# Convertir la columna 'created_at' a una fecha sin zona horaria\n",
    "cr['created_at'] = cr['created_at'].dt.tz_localize(None)\n",
    "#cr['created_at_notz'] = cr['created_at'].dt.tz_localize(None)\n",
    "cr.head()"
   ]
  },
  {
   "cell_type": "code",
   "execution_count": null,
   "metadata": {},
   "outputs": [],
   "source": [
    "cr['Mes'] = cr['created_at'].dt.to_period('M')\n",
    "cr.head()\n"
   ]
  },
  {
   "cell_type": "code",
   "execution_count": null,
   "metadata": {},
   "outputs": [],
   "source": [
    "# Crear columna 'Cohorte' que indica el mes de la primera solicitud de cada cliente\n",
    "cr['Cohorte'] = cr.groupby('user_id')['created_at'].transform('min').dt.to_period('M')\n",
    "#cr['Cohorte'] = cr.groupby('user_id')['created_at_notz'].transform('min').dt.to_period('M')\n",
    "cr.head(10)"
   ]
  },
  {
   "cell_type": "code",
   "execution_count": null,
   "metadata": {},
   "outputs": [],
   "source": [
    "# Calcular el número inicial de clientes únicos en cada cohorte\n",
    "cohort_sizes_initial = cr.groupby('Cohorte').agg(Num_Clientes_Iniciales=('user_id', 'nunique')).reset_index()\n",
    "cohort_sizes_initial\n"
   ]
  },
  {
   "cell_type": "code",
   "execution_count": null,
   "metadata": {},
   "outputs": [],
   "source": [
    "# Calcular la cantidad de clientes únicos en cada cohorte para cada mes\n",
    "cohort_sizes_monthly = cr.groupby(['Cohorte', 'Mes']).agg(Num_Clientes=('user_id', 'nunique')).reset_index()\n",
    "cohort_sizes_monthly"
   ]
  },
  {
   "cell_type": "code",
   "execution_count": null,
   "metadata": {},
   "outputs": [],
   "source": [
    "# Calcular la cantidad de solicitudes de adelanto de efectivo de los clientes de cada cohorte en cada mes\n",
    "cohort_cash_monthly = cr.groupby(['Cohorte', 'Mes']).agg(Num_Solicitudes=('user_id', 'count')).reset_index()\n",
    "cohort_cash_monthly"
   ]
  },
  {
   "cell_type": "code",
   "execution_count": null,
   "metadata": {},
   "outputs": [],
   "source": [
    "# Calcular la tasa de retención de clientes (clientes únicos por cohorte en cada mes / clientes iniciales de la cohorte)\n",
    "retention_clientes = cohort_sizes_monthly.pivot(index='Cohorte', columns='Mes', values='Num_Clientes')\n",
    "retention_clientes = retention_clientes.div(cohort_sizes_initial.set_index('Cohorte')['Num_Clientes_Iniciales'], axis=0)\n",
    "retention_clientes"
   ]
  },
  {
   "cell_type": "code",
   "execution_count": null,
   "metadata": {},
   "outputs": [],
   "source": [
    "# Visualizar la tasa de retención de clientes usando un mapa de calor\n",
    "plt.figure(figsize=(10, 8))\n",
    "plt.title('Tasa de Retención de Clientes por Cohorte')\n",
    "sns.heatmap(data=retention_clientes, annot=True, fmt='.0%', vmin=0.0, vmax=1.0, cmap='BuGn', cbar_kws={'label': 'Tasa de Retención'})\n",
    "plt.xlabel('Meses desde la primera solicitud de adelanto en efectivo')\n",
    "plt.ylabel('Cohorte')\n",
    "plt.show()\n"
   ]
  },
  {
   "cell_type": "code",
   "execution_count": null,
   "metadata": {},
   "outputs": [],
   "source": [
    "# Calcular la tasa de abandono de clientes (1 - tasa de retención)\n",
    "churn_clientes = 1 - retention_clientes\n"
   ]
  },
  {
   "cell_type": "code",
   "execution_count": null,
   "metadata": {},
   "outputs": [],
   "source": [
    "\n",
    "plt.figure(figsize=(10, 8))\n",
    "plt.title('Tasa de Abandono de Clientes por Cohorte')\n",
    "sns.heatmap(data=churn_clientes, annot=True, fmt='.0%', vmin=0.0, vmax=1.0,cmap='OrRd', cbar_kws={'label': 'Tasa de Abandono'})\n",
    "plt.xlabel('Meses desde la primera solicitud de adelanto en efectivo')\n",
    "plt.ylabel('Cohorte')\n",
    "plt.show()\n"
   ]
  },
  {
   "cell_type": "code",
   "execution_count": null,
   "metadata": {},
   "outputs": [],
   "source": [
    "# Calcular el número inicial de solicitudes de adelanto de efectivo en cada cohorte\n",
    "cohort_cash_initial = cohort_cash_monthly.groupby('Cohorte').first().reset_index().rename(columns={'Num_Solicitudes':'Num_Solicitudes_Iniciales'})\n",
    "cohort_cash_initial\n"
   ]
  },
  {
   "cell_type": "code",
   "execution_count": null,
   "metadata": {},
   "outputs": [],
   "source": [
    "# Calcular la tasa de retención de solicitudes (solicitudes por cohorte en cada mes / solicitudes iniciales de la cohorte)\n",
    "retention_cash = cohort_cash_monthly.pivot(index='Cohorte', columns='Mes', values='Num_Solicitudes')\n",
    "retention_cash = retention_cash.div(cohort_cash_initial.set_index('Cohorte')['Num_Solicitudes_Iniciales'], axis=0)\n",
    "retention_cash"
   ]
  },
  {
   "cell_type": "code",
   "execution_count": null,
   "metadata": {},
   "outputs": [],
   "source": [
    "# Visualizar la tasa de retención de solicitudes usando un mapa de calor\n",
    "plt.figure(figsize=(10, 8))\n",
    "plt.title('Tasa de Retención de Solicitudes de Adelanto de Efectivo por Cohorte')\n",
    "sns.heatmap(data=retention_cash, annot=True, fmt='.0%', vmin=0.0, vmax=1.0, cmap='Blues', cbar_kws={'label': 'Tasa de Retención'})\n",
    "plt.xlabel('Meses desde la primera solicitud de adelanto en efectivo')\n",
    "plt.ylabel('Cohorte')\n",
    "plt.show()"
   ]
  },
  {
   "cell_type": "code",
   "execution_count": null,
   "metadata": {},
   "outputs": [],
   "source": [
    "# Calcular la tasa de abandono de solicitudes (1 - tasa de retención de solicitudes)\n",
    "churn_cash = 1 - retention_cash\n",
    "churn_cash"
   ]
  },
  {
   "cell_type": "code",
   "execution_count": null,
   "metadata": {},
   "outputs": [],
   "source": [
    "# Visualizar la tasa de abandono de solicitudes usando un mapa de calor\n",
    "plt.figure(figsize=(10, 8))\n",
    "plt.title('Tasa de Abandono de Solicitudes de Adelanto de Efectivo por Cohorte')\n",
    "sns.heatmap(data=churn_cash, annot=True, fmt='.0%', vmin=0.0, vmax=1.0, cmap='Oranges', cbar_kws={'label': 'Tasa de Abandono'})\n",
    "plt.xlabel('Meses desde la primera solicitud de adelanto en efectivo')\n",
    "plt.ylabel('Cohorte')\n",
    "plt.show()"
   ]
  },
  {
   "cell_type": "code",
   "execution_count": null,
   "metadata": {},
   "outputs": [],
   "source": [
    "# Cargar el dataset de tarifas o fees para análisis de cohortes de tarifas\n",
    "fees = pd.read_csv('../data/extract - fees - data analyst - .csv')\n",
    "fees.info()"
   ]
  },
  {
   "cell_type": "code",
   "execution_count": null,
   "metadata": {},
   "outputs": [],
   "source": [
    "# Crear una copia del DataFrame para preservar el original\n",
    "fs = fees.copy()\n",
    "fs = fs[[\"cash_request_id\", \"total_amount\", \"created_at\"]]\n",
    "fs.info()"
   ]
  },
  {
   "cell_type": "code",
   "execution_count": null,
   "metadata": {},
   "outputs": [],
   "source": [
    "# Convertir la columna 'created_at' en fees a tipo datetime para análisis temporal\n",
    "fs['created_at'] = pd.to_datetime(fs['created_at'])\n",
    "fs.head()"
   ]
  },
  {
   "cell_type": "code",
   "execution_count": null,
   "metadata": {},
   "outputs": [],
   "source": [
    "# Convertir la columna 'created_at' a una fecha sin zona horaria\n",
    "fs['created_at'] = fs['created_at'].dt.tz_localize(None)\n",
    "fs.head()"
   ]
  },
  {
   "cell_type": "code",
   "execution_count": null,
   "metadata": {},
   "outputs": [],
   "source": [
    "# Crear columna 'Mes' indicando el mes de cada solicitud\n",
    "fs['Mes'] = fs['created_at'].dt.to_period('M')\n",
    "fs.head()"
   ]
  },
  {
   "cell_type": "code",
   "execution_count": null,
   "metadata": {},
   "outputs": [],
   "source": [
    "# Crear columna 'Cohorte' que indica el mes del primer cargo de cada cliente\n",
    "fs['Cohorte'] = fs.groupby('cash_request_id')['created_at'].transform('min').dt.to_period('M')\n",
    "fs.head()"
   ]
  },
  {
   "cell_type": "code",
   "execution_count": null,
   "metadata": {},
   "outputs": [],
   "source": [
    "# Calcular la cantidad de tarifas iniciales por cohorte\n",
    "cohort_fees_initial = fs.groupby('Cohorte').agg(Num_Tarifas_Iniciales=('cash_request_id', 'nunique')).reset_index()\n",
    "cohort_fees_initial"
   ]
  },
  {
   "cell_type": "code",
   "execution_count": null,
   "metadata": {},
   "outputs": [],
   "source": [
    "# Calcular el número de tarifas en cada cohorte para cada mes\n",
    "cohort_fees_monthly = fs.groupby(['Cohorte', 'Mes']).agg(Num_Tarifas=('cash_request_id', 'nunique')).reset_index()\n",
    "cohort_fees_monthly"
   ]
  },
  {
   "cell_type": "code",
   "execution_count": null,
   "metadata": {},
   "outputs": [],
   "source": [
    "# Calcular la tasa de retención de tarifas (número de tarifas de cada cohorte en cada mes / tarifas iniciales de la cohorte)\n",
    "retention_fees = cohort_fees_monthly.pivot(index='Cohorte', columns='Mes',values='Num_Tarifas')\n",
    "retention_fees = retention_fees.div(cohort_fees_initial.set_index('Cohorte')['Num_Tarifas_Iniciales'], axis=0)\n",
    "retention_fees"
   ]
  },
  {
   "cell_type": "code",
   "execution_count": null,
   "metadata": {},
   "outputs": [],
   "source": [
    "# Visualizar la tasa de retención de tarifas usando un mapa de calor\n",
    "plt.figure(figsize=(10, 8))\n",
    "plt.title('Tasa de Retención de Tarifas por Cohorte')\n",
    "sns.heatmap(data=retention_fees, annot=True, fmt='.0%', vmin=0.0, vmax=1.0,cmap='Greens', cbar_kws={'label': 'Tasa de Retención'})\n",
    "plt.xlabel('Meses desde la primera tarifa')\n",
    "plt.ylabel('Cohorte')\n",
    "plt.show()\n"
   ]
  },
  {
   "cell_type": "code",
   "execution_count": null,
   "metadata": {},
   "outputs": [],
   "source": [
    "churn_fees = 1 - retention_fees\n",
    "\n",
    "plt.figure(figsize=(10, 8))\n",
    "plt.title('Tasa de Abandono de Tarifas por Cohorte')\n",
    "sns.heatmap(data=churn_fees, annot=True, fmt='.0%', vmin=0.0, vmax=1.0,cmap='Reds', cbar_kws={'label': 'Tasa de Abandono'})\n",
    "plt.xlabel('Meses desde la primera tarifa')\n",
    "plt.ylabel('Cohorte')\n",
    "plt.show()"
   ]
  },
  {
   "cell_type": "code",
   "execution_count": null,
   "metadata": {},
   "outputs": [],
   "source": [
    "# Agregar columnas de temporalidad\n",
    "# Semana y mes de la solicitud\n",
    "cr['Semana_Mes'] = cr['created_at'].dt.strftime('%U_%B') + '_' + cr['Mes'].dt.strftime('%Y')\n",
    "# Día y semana de la solicitud\n",
    "cr['Dia_Semana'] = cr['created_at'].dt.strftime('%A') + '_' + cr['Semana_Mes']\n",
    "# Hora y dia de la solicitud\n",
    "cr['Hora_Dia'] = cr['created_at'].dt.hour.astype(str) + '_' + cr['Dia_Semana']\n",
    "cr.head()"
   ]
  },
  {
   "cell_type": "code",
   "execution_count": null,
   "metadata": {},
   "outputs": [],
   "source": [
    "# Calcular la cantidad de adelanto de efectivo por cohorte y mes\n",
    "cohort_revenue = cr.groupby(['Cohorte', 'Mes'])['amount'].sum().reset_index()\n",
    "cohort_revenue = cohort_revenue.pivot(index='Cohorte', columns='Mes', values='amount')\n",
    "cohort_revenue"
   ]
  },
  {
   "cell_type": "code",
   "execution_count": null,
   "metadata": {},
   "outputs": [],
   "source": [
    "# Graficar la cantidad de adelanto de efectivo por cohorte y mes\n",
    "plt.figure(figsize=(10, 8))\n",
    "plt.title('Cantidad de Adelanto de Efectivo por Cohorte y Mes')\n",
    "sns.heatmap(data=cohort_revenue, annot=True, fmt='.0f', cmap='viridis', annot_kws={\"size\": 8}, cbar_kws={'label': 'Cantidad de Adelanto de Efectivo'})\n",
    "plt.xlabel('Mes por Año')\n",
    "plt.ylabel('Cohorte')\n",
    "plt.show()\n"
   ]
  },
  {
   "cell_type": "code",
   "execution_count": null,
   "metadata": {},
   "outputs": [],
   "source": [
    "# Crear DataFrame de cohortes para el mes de '2020-03'\n",
    "cohort_amount_2020_03 = cr[cr['Cohorte'] == '2020-03'].groupby('user_id')['amount'].sum().reset_index()\n",
    "cohort_amount_2020_03"
   ]
  },
  {
   "cell_type": "code",
   "execution_count": null,
   "metadata": {},
   "outputs": [],
   "source": [
    "# Ordenar por el monto total para encontrar los 10 usuarios principales\n",
    "sort_cohort_amount_2020_03 = cohort_amount_2020_03.sort_values(by='amount', ascending=False)\n",
    "top_10_users = sort_cohort_amount_2020_03.head(10)\n",
    "top_10_users"
   ]
  },
  {
   "cell_type": "code",
   "execution_count": null,
   "metadata": {},
   "outputs": [],
   "source": [
    "# Filtrar para incluir solo los 10 usuarios seleccionados\n",
    "amount_2020_03 = cr[cr['Cohorte'] == '2020-03'].groupby(['user_id','Mes'])['amount'].sum().reset_index()\n",
    "cohort_amount_2020_03_top10 = amount_2020_03[amount_2020_03['user_id'].isin(top_10_users['user_id'])]\n",
    "cohort_amount_2020_03_top10 = cohort_amount_2020_03_top10.pivot(index='user_id', columns='Mes', values='amount')\n",
    "cohort_amount_2020_03_top10"
   ]
  },
  {
   "cell_type": "code",
   "execution_count": null,
   "metadata": {},
   "outputs": [],
   "source": [
    "# Graficar la cantidad de adelanto de efectivo de un cohorte por meses y número de usuarios\n",
    "plt.figure(figsize=(10, 8))\n",
    "plt.title('Cantidad de Adelanto de Efectivo del Cohorte 2020-03 por Meses por Año y Número de Usuario')\n",
    "sns.heatmap(data=cohort_amount_2020_03_top10, annot=True, fmt='.0f', cmap='viridis', annot_kws={\"size\": 8}, cbar_kws={'label': 'Cantidad de Adelanto de Efectivo'})\n",
    "plt.xlabel('Mes por Año')\n",
    "plt.ylabel('Número de Usuario')\n",
    "plt.show()\n"
   ]
  },
  {
   "cell_type": "code",
   "execution_count": null,
   "metadata": {},
   "outputs": [],
   "source": [
    "# Filtrar para calcular la cantidad de adelanto de efectivo por cohorte y semana\n",
    "cohort_weekly_amount = cr[cr['Cohorte'] == '2020-03'].groupby(['user_id','Semana_Mes'])['amount'].sum().reset_index()\n",
    "cohort_weekly_amount"
   ]
  },
  {
   "cell_type": "code",
   "execution_count": null,
   "metadata": {},
   "outputs": [],
   "source": [
    "# Filtrar para incluir solo los 10 usuarios seleccionados\n",
    "cohort_weekly_amount_top10 = cohort_weekly_amount[cohort_weekly_amount['user_id'].isin(top_10_users['user_id'])]\n",
    "cohort_weekly_amount_top10 = cohort_weekly_amount_top10.pivot(index='user_id', columns='Semana_Mes', values='amount')\n",
    "cohort_weekly_amount_top10"
   ]
  },
  {
   "cell_type": "code",
   "execution_count": null,
   "metadata": {},
   "outputs": [],
   "source": [
    "# Seleccionar las primeras 10 semanas\n",
    "cohort_weekly_amount_top10 = cohort_weekly_amount_top10.loc[:,cohort_weekly_amount_top10.columns[:10]]\n",
    "cohort_weekly_amount_top10"
   ]
  },
  {
   "cell_type": "code",
   "execution_count": null,
   "metadata": {},
   "outputs": [],
   "source": [
    "# Graficar la cantidad de adelanto de efectivo de los 10 principales usuarios por semana\n",
    "plt.figure(figsize=(10, 8))\n",
    "plt.title('Cantidad de Adelanto de Efectivo del Cohorte 2020-03 por Semana por Mes y Número de Usuario')\n",
    "sns.heatmap(data=cohort_weekly_amount_top10, annot=True, fmt='.0f', cmap='viridis', annot_kws={\"size\": 8}, cbar_kws={'label': 'Cantidad de Adelanto de Efectivo'})\n",
    "plt.xlabel('Semana por Mes')\n",
    "plt.ylabel('Número de Usuario')\n",
    "plt.show()\n",
    "\n"
   ]
  },
  {
   "cell_type": "code",
   "execution_count": null,
   "metadata": {},
   "outputs": [],
   "source": [
    "# Filtrar para calcular la cantidad de adelanto de efectivo por cohorte y día de la semana\n",
    "cohort_daily_amount = cr[ (cr['Cohorte'] == '2020-03') & (cr['Semana_Mes'] == '10_March_2020') ].groupby(['user_id', 'Dia_Semana'])['amount'].sum().reset_index()\n",
    "cohort_daily_amount"
   ]
  },
  {
   "cell_type": "code",
   "execution_count": null,
   "metadata": {},
   "outputs": [],
   "source": [
    "# Filtrar para incluir solo los 10 usuarios seleccionados\n",
    "cohort_daily_amount_top10 = cohort_daily_amount[cohort_daily_amount['user_id'].isin(top_10_users['user_id'])]\n",
    "cohort_daily_amount_top10 = cohort_daily_amount_top10.pivot(index='user_id',columns='Dia_Semana', values='amount')\n",
    "cohort_daily_amount_top10"
   ]
  },
  {
   "cell_type": "code",
   "execution_count": null,
   "metadata": {},
   "outputs": [],
   "source": [
    "# Graficar la cantidad de adelanto de efectivo de los 10 principales usuarios por día de la semana\n",
    "plt.figure(figsize=(10, 8))\n",
    "plt.title('Cantidad de Adelanto de Efectivo del Cohorte 2020-03 por Día por Semana y Número de Usuario')\n",
    "sns.heatmap(data=cohort_daily_amount_top10, annot=True, fmt='.0f', cmap='viridis', annot_kws={\"size\": 8}, cbar_kws={'label': 'Cantidad de Adelanto de Efectivo'})\n",
    "plt.xlabel('Día por Semana')\n",
    "plt.ylabel('Número de Usuario')\n",
    "plt.show()\n",
    "\n"
   ]
  },
  {
   "cell_type": "code",
   "execution_count": null,
   "metadata": {},
   "outputs": [],
   "source": [
    "# Filtrar para calcular la cantidad de adelanto de efectivo por cohorte y hora\n",
    "cohort_hourly_amount = cr[(cr['Cohorte'] == '2020-03') & \n",
    "                          (cr['Semana_Mes'] == '10_March_2020') & \n",
    "                          (cr['Dia_Semana'] == 'Monday_10_March_2020')].groupby(['user_id', 'Hora_Dia'])['amount'].sum().reset_index()\n",
    "cohort_hourly_amount"
   ]
  },
  {
   "cell_type": "code",
   "execution_count": null,
   "metadata": {},
   "outputs": [],
   "source": [
    "# Filtrar para incluir solo los 10 usuarios seleccionados\n",
    "cohort_hourly_amount_top10 = cohort_hourly_amount[cohort_hourly_amount['user_id'].isin(top_10_users['user_id'])]\n",
    "cohort_hourly_amount_top10 = cohort_hourly_amount_top10.pivot(index='user_id',columns='Hora_Dia', values='amount')\n",
    "cohort_hourly_amount_top10"
   ]
  },
  {
   "cell_type": "code",
   "execution_count": null,
   "metadata": {},
   "outputs": [],
   "source": [
    "# Graficar la cantidad de adelanto de efectivo de los 10 principales usuarios por hora\n",
    "plt.figure(figsize=(10, 8))\n",
    "plt.title('Cantidad de Adelanto de Efectivo del Cohorte 2020-03 por Hora por Dia y Número de Usuario')\n",
    "sns.heatmap(data=cohort_hourly_amount_top10, annot=True, fmt='.0f', cmap='viridis', annot_kws={\"size\": 8}, cbar_kws={'label': 'Cantidad de Adelanto de Efectivo'})\n",
    "plt.xlabel('Hora por Dia')\n",
    "plt.ylabel('Número de Usuario')\n",
    "plt.show()"
   ]
  },
  {
   "cell_type": "code",
   "execution_count": null,
   "metadata": {},
   "outputs": [],
   "source": [
    "# Importando la biblioteca pandas para manipulación y análisis de datos\n",
    "import pandas as pd\n",
    "# Importando NumPy para operaciones numéricas y manipulación de arreglos\n",
    "import numpy as np\n",
    "# Importando Seaborn para visualización de datos estadísticos (opcional, pero puede complementar a Plotly)\n",
    "import seaborn as sns\n",
    "# Importando Plotly Express para visualizaciones interactivas de alto nivel y fáciles de usar\n",
    "import plotly.express as px\n",
    "# Importando matplotlib.pyplot para crear gráficos y visualizaciones\n",
    "\n",
    "import matplotlib.pyplot as plt\n",
    "# Importando Plotly Graph Objects para un control más detallado sobre las visualizaciones\n",
    "import plotly.graph_objects as go\n",
    "# Importando itertools para generar combinaciones de columnas\n",
    "import itertools\n",
    "# Importando la función seasonal_decompose para la descomposición de series temporales\n",
    "from statsmodels.tsa.seasonal import seasonal_decompose"
   ]
  },
  {
   "cell_type": "code",
   "execution_count": null,
   "metadata": {},
   "outputs": [],
   "source": [
    "cash_request=pd.read_csv('../data/extract - cash request - data analyst.csv')\n",
    "fees=pd.read_csv('../data/extract - fees - data analyst - .csv')\n",
    "\n",
    "fig1 = px.imshow(cash_request.isnull(),\n",
    "color_continuous_scale=['black', 'red'],\n",
    "labels=dict(color=\"NaN\"),\n",
    "title=\"Mapa de calor para cash_request\")\n",
    "fig1.update_layout(width=700, height=700)\n",
    "fig1.update_coloraxes(showscale=False)\n",
    "fig1.show()\n"
   ]
  },
  {
   "cell_type": "code",
   "execution_count": null,
   "metadata": {},
   "outputs": [],
   "source": [
    "fig2 = px.imshow(fees.isnull(),\n",
    "color_continuous_scale=['black', 'red'],\n",
    "labels=dict(color=\"NaN\"),\n",
    "title=\"Mapa de calor para fees\")\n",
    "fig2.update_layout(width=700, height=700)\n",
    "fig2.update_coloraxes(showscale=False)\n",
    "fig2.show()\n"
   ]
  },
  {
   "cell_type": "code",
   "execution_count": null,
   "metadata": {},
   "outputs": [],
   "source": [
    "cash_request.describe()"
   ]
  },
  {
   "cell_type": "code",
   "execution_count": null,
   "metadata": {},
   "outputs": [],
   "source": [
    "fees.describe()"
   ]
  },
  {
   "cell_type": "code",
   "execution_count": null,
   "metadata": {},
   "outputs": [],
   "source": [
    "cash_request.info()"
   ]
  },
  {
   "cell_type": "code",
   "execution_count": null,
   "metadata": {},
   "outputs": [],
   "source": [
    "fees.info()"
   ]
  },
  {
   "cell_type": "code",
   "execution_count": null,
   "metadata": {},
   "outputs": [],
   "source": [
    "#Revisión de columnas con valores clave\n",
    "columnas_cash_request=cash_request.columns.tolist()\n",
    "for i in columnas_cash_request:\n",
    "    print(\"===========================\")\n",
    "    print(f\"{cash_request[i].value_counts().head(10)}\")"
   ]
  },
  {
   "cell_type": "code",
   "execution_count": null,
   "metadata": {},
   "outputs": [],
   "source": [
    "columnas_fees=fees.columns.tolist()\n",
    "for i in columnas_fees:\n",
    "    print(\"===========================\")\n",
    "    print(f\"{fees[i].value_counts().head(10)}\")"
   ]
  },
  {
   "cell_type": "code",
   "execution_count": null,
   "metadata": {},
   "outputs": [],
   "source": [
    "# Visualización de distribuciones de datos\n",
    "columnas_numericas_cash_request=cash_request.describe().columns.tolist()\n",
    "for c in columnas_numericas_cash_request:\n",
    "    fig = px.histogram(cash_request, x=c, title=f'Histograma de {c}')\n",
    "    fig.update_layout(height=500)\n",
    "    fig.show()\n"
   ]
  },
  {
   "cell_type": "code",
   "execution_count": null,
   "metadata": {},
   "outputs": [],
   "source": [
    "columnas_numericas_fees=fees.describe().columns.tolist()\n",
    "for c in columnas_numericas_fees:\n",
    "    fig = px.histogram(fees, x=c, title=f'Histograma de {c}')\n",
    "    fig.update_layout(height=500)\n",
    "    fig.show()\n"
   ]
  },
  {
   "cell_type": "code",
   "execution_count": null,
   "metadata": {},
   "outputs": [],
   "source": [
    "for c in columnas_cash_request:\n",
    "    if c not in columnas_numericas_cash_request:\n",
    "        counts = cash_request[c].value_counts()\n",
    "        if len(counts)<=10:\n",
    "            fig = px.pie(names=counts.index, values=counts.values, title=f'Distribución de {c}')\n",
    "            fig.update_layout(height=500)\n",
    "            fig.show()"
   ]
  },
  {
   "cell_type": "code",
   "execution_count": null,
   "metadata": {},
   "outputs": [],
   "source": [
    "for c in columnas_fees:\n",
    "    if c not in columnas_numericas_fees:\n",
    "        counts = fees[c].value_counts()\n",
    "        if len(counts)<=10:\n",
    "            fig = px.pie(names=counts.index, values=counts.values, title=f'Distribución de {c}')\n",
    "            fig.update_layout(height=500)\n",
    "            fig.show()\n",
    "\n"
   ]
  },
  {
   "cell_type": "code",
   "execution_count": null,
   "metadata": {},
   "outputs": [],
   "source": [
    "for c in columnas_numericas_cash_request:\n",
    "    fig = px.box(cash_request, y=c, title=f'Boxplot de {c}')\n",
    "    fig.update_layout(height=500)\n",
    "    fig.show()\n"
   ]
  },
  {
   "cell_type": "code",
   "execution_count": null,
   "metadata": {},
   "outputs": [],
   "source": [
    "for c in columnas_numericas_fees:\n",
    "    fig = px.box(fees, y=c, title=f'Boxplot de {c}')\n",
    "    fig.update_layout(height=500)\n",
    "    fig.show()\n"
   ]
  },
  {
   "cell_type": "code",
   "execution_count": null,
   "metadata": {},
   "outputs": [],
   "source": [
    "for c in columnas_numericas_cash_request:\n",
    "    fig = px.violin(cash_request, y=c, title=f'Violinplot de {c}')\n",
    "    fig.update_layout(height=500)\n",
    "    fig.show()\n"
   ]
  },
  {
   "cell_type": "code",
   "execution_count": null,
   "metadata": {},
   "outputs": [],
   "source": [
    "for c in columnas_numericas_fees:\n",
    "    fig = px.violin(fees, y=c, title=f'Violinplot de {c}')\n",
    "    fig.update_layout(height=500)\n",
    "    fig.show()"
   ]
  },
  {
   "cell_type": "code",
   "execution_count": null,
   "metadata": {},
   "outputs": [],
   "source": [
    "# Genera gráficos de dispersión para todas las combinaciones de columnas numéricas\n",
    "for c1, c2 in itertools.combinations(columnas_numericas_cash_request, 2):\n",
    "    fig = px.scatter(cash_request, x=c1, y=c2, title=f'Gráfico de dispersión de {c1} vs {c2}')\n",
    "    fig.update_layout(height=500)\n",
    "    fig.show()\n",
    "\n"
   ]
  },
  {
   "cell_type": "code",
   "execution_count": null,
   "metadata": {},
   "outputs": [],
   "source": [
    "# Genera gráficos de dispersión con línea de tendencia para todas las combinaciones de columnas numéricas\n",
    "for c1, c2 in itertools.combinations(columnas_numericas_cash_request, 2):\n",
    "    fig = px.scatter(cash_request, x=c1, y=c2,\n",
    "    title=f'Gráfico de dispersión de {c1} vs {c2} con línea de tendencia',\n",
    "    trendline=\"ols\") # Agregar línea de tendencia (OLS)\n",
    "    # Cambiar el color de la línea de tendencia a rojo\n",
    "    fig.update_traces(line=dict(color='red', width=3)) # Color y ancho de la línea de tendencia\n",
    "    fig.update_traces(line=dict(color='red'), selector=dict(mode='lines')) #Cambiar el color de la línea de tendencia\n",
    "    fig.update_layout(height=500)\n",
    "    fig.show()"
   ]
  },
  {
   "cell_type": "code",
   "execution_count": null,
   "metadata": {},
   "outputs": [],
   "source": [
    "# Genera gráficos de dispersión con línea de tendencia para todas las combinaciones de columnas numéricas\n",
    "for c1, c2 in itertools.combinations(columnas_numericas_fees, 2):\n",
    "    fig = px.scatter(fees, x=c1, y=c2,\n",
    "\n",
    "    title=f'Gráfico de dispersión de {c1} vs {c2} con línea de tendencia',\n",
    "    trendline=\"ols\") # Agregar línea de tendencia (OLS)\n",
    "    # Cambiar el color de la línea de tendencia a rojo\n",
    "    fig.update_traces(line=dict(color='red', width=3)) # Color y ancho de la línea de tendencia\n",
    "    fig.update_traces(line=dict(color='red'), selector=dict(mode='lines')) #Cambiar el color de la línea de tendencia\n",
    "    fig.update_layout(height=500)\n",
    "    fig.show()"
   ]
  },
  {
   "cell_type": "code",
   "execution_count": null,
   "metadata": {},
   "outputs": [],
   "source": []
  },
  {
   "cell_type": "code",
   "execution_count": null,
   "metadata": {},
   "outputs": [],
   "source": [
    "#cash_request=pd.read_csv('../data/extract - cash request - data analyst.csv')\n",
    "#cash_request.info()\n",
    "cash_request.describe()\n",
    "#cr_cp = cash_request.copy()\n",
    "#cr_num=cr_cp.describe().columns#.tolist()\n",
    "#print(cr_num)"
   ]
  },
  {
   "cell_type": "code",
   "execution_count": null,
   "metadata": {},
   "outputs": [],
   "source": []
  },
  {
   "cell_type": "code",
   "execution_count": null,
   "metadata": {},
   "outputs": [],
   "source": [
    "# Descomposición de series temporales para cada columna numérica individual\n",
    "for c in columnas_numericas_cash_request:\n",
    "    # Crear una copia del DataFrame para trabajar\n",
    "    cash_request_copy = cash_request[c].copy()\n",
    "    \n",
    "    # Verifica si hay valores faltantes y elimínalos o interpola\n",
    "    if cash_request_copy.isnull().any():\n",
    "        cash_request_copy = cash_request_copy.interpolate() # Rellenar NaN con interpolación\n",
    "    \n",
    "    # Eliminar filas con valores faltantes\n",
    "    cash_request_copy = cash_request_copy.dropna()\n",
    "    # Verificar que no hay valores no finitos\n",
    "    if not np.isfinite(cash_request_copy).all():\n",
    "        print(f'La columna {c} contiene valores no finitos, se omite la descomposición.')\n",
    "        continue\n",
    "    # Descomposición de la serie temporal\n",
    "    descomposicion = seasonal_decompose(cash_request_copy, model='additive', period=12)\n",
    "    # Graficar la descomposición\n",
    "    fig = descomposicion.plot()\n",
    "    # Ajustar el tamaño de la figura con matplotlib\n",
    "    46\n",
    "    plt.gcf().set_size_inches(10, 6)\n",
    "    # Ajustar el título para que no se superponga\n",
    "    fig.suptitle(f'Descomposición de la serie temporal de {c}', fontsize=16, y=1.05)\n",
    "    plt.show()"
   ]
  },
  {
   "cell_type": "code",
   "execution_count": null,
   "metadata": {},
   "outputs": [],
   "source": [
    "# Descomposición de series temporales para cada columna numérica individual\n",
    "for c in columnas_numericas_fees:\n",
    "    # Crear una copia del DataFrame para trabajar\n",
    "    fees_copy = fees[c].copy()\n",
    "    # Verifica si hay valores faltantes y elimínalos o interpola\n",
    "    if fees_copy.isnull().any():\n",
    "        fees_copy = fees_copy.interpolate() # Rellenar NaN con interpolación\n",
    "    \n",
    "    # Eliminar filas con valores faltantes\n",
    "    fees_copy = fees_copy.dropna()\n",
    "    # Verificar que no hay valores no finitos\n",
    "    if not np.isfinite(fees_copy).all():\n",
    "        print(f'La columna {c} contiene valores no finitos, se omite la descomposición.')\n",
    "        continue\n",
    "    # Descomposición de la serie temporal\n",
    "    descomposicion = seasonal_decompose(fees_copy, model='additive', period=12)\n",
    "    # Graficar la descomposición\n",
    "    fig = descomposicion.plot()\n",
    "    49\n",
    "    # Ajustar el tamaño de la figura con matplotlib\n",
    "    plt.gcf().set_size_inches(10, 6) #\n",
    "    # Ajustar el título para que no se superponga\n",
    "    fig.suptitle(f'Descomposición de la serie temporal de {c}', fontsize=16, y=1.05)\n",
    "    plt.show()"
   ]
  },
  {
   "cell_type": "code",
   "execution_count": null,
   "metadata": {},
   "outputs": [],
   "source": []
  },
  {
   "cell_type": "code",
   "execution_count": null,
   "metadata": {},
   "outputs": [],
   "source": []
  },
  {
   "cell_type": "code",
   "execution_count": null,
   "metadata": {},
   "outputs": [],
   "source": []
  }
 ],
 "metadata": {
  "kernelspec": {
   "display_name": "Python 3",
   "language": "python",
   "name": "python3"
  },
  "language_info": {
   "codemirror_mode": {
    "name": "ipython",
    "version": 3
   },
   "file_extension": ".py",
   "mimetype": "text/x-python",
   "name": "python",
   "nbconvert_exporter": "python",
   "pygments_lexer": "ipython3",
   "version": "3.8.9"
  }
 },
 "nbformat": 4,
 "nbformat_minor": 4
}
