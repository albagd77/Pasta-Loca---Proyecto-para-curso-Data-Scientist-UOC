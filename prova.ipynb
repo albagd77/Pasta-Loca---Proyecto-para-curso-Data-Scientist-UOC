{
 "cells": [
  {
   "cell_type": "markdown",
   "metadata": {},
   "source": [
    "### Fitxer de prova"
   ]
  }
 ],
 "metadata": {
  "language_info": {
   "name": "python"
  }
 },
 "nbformat": 4,
 "nbformat_minor": 2
}
