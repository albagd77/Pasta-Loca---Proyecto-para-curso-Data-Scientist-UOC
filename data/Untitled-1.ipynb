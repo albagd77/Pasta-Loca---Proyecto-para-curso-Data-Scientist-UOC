{
 "cells": [
  {
   "cell_type": "markdown",
   "metadata": {},
   "source": [
    "# Cargar el dataset principal de solicitudes de adelanto en efectivo\n",
    "cash_request = pd.read_csv('/Users/Ale/uoc/ProyectoPastaLoca/data/extract - cash request - data analyst.csv')"
   ]
  }
 ],
 "metadata": {
  "kernelspec": {
   "display_name": "Python 3",
   "language": "python",
   "name": "python3"
  },
  "language_info": {
   "name": "python",
   "version": "3.8.9"
  }
 },
 "nbformat": 4,
 "nbformat_minor": 2
}
