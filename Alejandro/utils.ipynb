{
 "cells": [
  {
   "cell_type": "code",
   "execution_count": 1,
   "metadata": {},
   "outputs": [
    {
     "ename": "NameError",
     "evalue": "name 'pd' is not defined",
     "output_type": "error",
     "traceback": [
      "\u001b[0;31m---------------------------------------------------------------------------\u001b[0m",
      "\u001b[0;31mNameError\u001b[0m                                 Traceback (most recent call last)",
      "Cell \u001b[0;32mIn[1], line 12\u001b[0m\n\u001b[1;32m      1\u001b[0m \u001b[38;5;124;03m\"\"\"\u001b[39;00m\n\u001b[1;32m      2\u001b[0m \u001b[38;5;124;03mNombre del archivo: data.py\u001b[39;00m\n\u001b[1;32m      3\u001b[0m \u001b[38;5;124;03mAutor: Jose Niguidula, Alejandro, Andres\u001b[39;00m\n\u001b[0;32m   (...)\u001b[0m\n\u001b[1;32m      8\u001b[0m \u001b[38;5;124;03mCorreos: ahenaoa@uoc.edu, amanzano2@uoc.edu, jniguidulae@uoc.edu.\u001b[39;00m\n\u001b[1;32m      9\u001b[0m \u001b[38;5;124;03m\"\"\"\u001b[39;00m\n\u001b[1;32m     11\u001b[0m \u001b[38;5;66;03m# Cargar el dataset de tarifas o fees para análisis de cohortes de tarifas\u001b[39;00m\n\u001b[0;32m---> 12\u001b[0m fees \u001b[38;5;241m=\u001b[39m \u001b[43mpd\u001b[49m\u001b[38;5;241m.\u001b[39mread_csv(\u001b[38;5;124m'\u001b[39m\u001b[38;5;124m../data/extract - fees - data analyst - .csv\u001b[39m\u001b[38;5;124m'\u001b[39m)\n\u001b[1;32m     13\u001b[0m fees\u001b[38;5;241m.\u001b[39minfo()\n\u001b[1;32m     15\u001b[0m \u001b[38;5;66;03m# Crear una copia del DataFrame para preservar el original\u001b[39;00m\n",
      "\u001b[0;31mNameError\u001b[0m: name 'pd' is not defined"
     ]
    }
   ],
   "source": [
    "\"\"\"\n",
    "Nombre del archivo: data.py\n",
    "Autor: Jose Niguidula, Alejandro, Andres\n",
    "Descripción: Archivo que contiene código útil para tranformar datos para\n",
    "            proyecto de curso Data Scientist de la UOC\n",
    "Creado: 28/10/2024\n",
    "Versión: 1.0\n",
    "Correos: ahenaoa@uoc.edu, amanzano2@uoc.edu, jniguidulae@uoc.edu.\n",
    "\"\"\"\n",
    "\n",
    "# Cargar el dataset de tarifas o fees para análisis de cohortes de tarifas\n",
    "fees = pd.read_csv('../data/extract - fees - data analyst - .csv')\n",
    "fees.info()\n",
    "\n",
    "# Crear una copia del DataFrame para preservar el original\n",
    "fs = fees.copy()\n",
    "fs = fs[[\"cash_request_id\",\"reason\",\"type\",\"status\", \"total_amount\", \"created_at\"]]\n",
    "fs.info()\n",
    "\n",
    "# Fill blank spaces in 'cash_request_id' with the last word from the 'reason' column\n",
    "fs['cash_request_id'] = fs['cash_request_id'].fillna(fs['reason'].apply(lambda x: x.split()[-1] if isinstance(x, str) and len(x.split()) > 0 else None))\n",
    "\n",
    "# Ensure the type of 'cash_request_id' is consistent\n",
    "fs['cash_request_id'] = pd.to_numeric(fs['cash_request_id'], errors='coerce')\n",
    "\n",
    "# Display the updated DataFrame\n",
    "print(fs.head())\n"
   ]
  },
  {
   "cell_type": "code",
   "execution_count": null,
   "metadata": {},
   "outputs": [],
   "source": []
  }
 ],
 "metadata": {
  "kernelspec": {
   "display_name": "Python 3",
   "language": "python",
   "name": "python3"
  },
  "language_info": {
   "codemirror_mode": {
    "name": "ipython",
    "version": 3
   },
   "file_extension": ".py",
   "mimetype": "text/x-python",
   "name": "python",
   "nbconvert_exporter": "python",
   "pygments_lexer": "ipython3",
   "version": "3.8.9"
  }
 },
 "nbformat": 4,
 "nbformat_minor": 2
}
