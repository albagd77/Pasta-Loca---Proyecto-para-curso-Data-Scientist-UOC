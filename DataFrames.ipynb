{
 "cells": [
  {
   "cell_type": "code",
   "execution_count": null,
   "metadata": {},
   "outputs": [],
   "source": [
    "# Importar librerías necesarias\n",
    "import pandas as pd\n",
    "import seaborn as sns\n",
    "import matplotlib.pyplot as plt\n",
    "import payments_manager as pm\n",
    "#pm.help()\n",
    "pm.init(debug=True)\n",
    "pm.info()\n",
    "cr_cp = pm.df('cr_cp')\n",
    "fe_cp = pm.df('fe_cp')\n",
    "#display(cr)\n",
    "\n",
    "# Normalitzar i deslocalitzar dates\n",
    "date_cols = ['updated_at','moderated_at','reimbursement_date','cash_request_received_date',\n",
    "             'money_back_date','send_at','reco_creation','reco_last_update']\n",
    "for col in date_cols:\n",
    "    if col in cr_cp.columns:  # Comprova si la columna existeix\n",
    "        cr_cp[col] = pd.to_datetime(cr_cp[col], errors='coerce')  # Normalitza les dates\n",
    "        cr_cp[col] = cr_cp[col].dt.tz_localize(None)  # Elimina la informació de zona horària\n",
    "cr_cp['user_id'] = cr_cp['user_id'].fillna(0).astype(int)\n",
    "cr_cp.info()\n",
    "#display(cr_cp)\n",
    "\n",
    "#if 'cash_request_id' not in fe_cp.columns:\n",
    "#    fe_cp['cash_request_id'] = 0  # O un altre valor predeterminat\n",
    "fe_cp['cash_request_id'] = fe_cp['cash_request_id'].fillna(0).astype(int)\n",
    "\n",
    "# Normalitzar i deslocalitzar dates\n",
    "date_cols = ['created_at','updated_at','paid_at','from_date','to_date']\n",
    "for col in date_cols:\n",
    "    if col in fe_cp.columns:  # Comprova si la columna existeix\n",
    "        fe_cp[col] = pd.to_datetime(fe_cp[col], errors='coerce')  # Normalitza les dates\n",
    "        fe_cp[col] = fe_cp[col].dt.tz_localize(None)  # Elimina la informació de zona horària\n",
    "fe_cp.info()\n"
   ]
  },
  {
   "cell_type": "code",
   "execution_count": null,
   "metadata": {},
   "outputs": [],
   "source": [
    "# Verifica duplicats a fe_cp\n",
    "duplicats_fe_cp = fe_cp[fe_cp.duplicated(subset=['id', 'cash_request_id'], keep=False)]\n",
    "#print(duplicats_fe_cp)\n",
    "\n",
    "# Verifica duplicats a cr_cp\n",
    "duplicats_cr_cp = cr_cp[cr_cp.duplicated(subset=['id'], keep=False)]\n",
    "#print(duplicats_cr_cp)\n",
    "\n",
    "#display(fe_cp[['id','cash_request_id']])\n",
    "#df_jo = pd.merge(cr_cp, fe_cp,  on=['id','cash_request_id'], how =\"left\")\n",
    "df_jo = pd.merge(cr_cp, fe_cp, left_on='id', right_on='cash_request_id', how =\"left\")\n",
    "df_jo.info()\n",
    "#display(df_jo[['id_x','created_at_x', 'updated_at_x', 'modereted_at_x']])\n",
    "#display(fe_cp)"
   ]
  },
  {
   "cell_type": "code",
   "execution_count": null,
   "metadata": {},
   "outputs": [],
   "source": [
    "df_jo['date_difference'] = (df_jo['to_date'] - df_jo['from_date']).dt.days\n",
    "#display(df_jo['date_difference'].notna().head(5))\n",
    "display(df_jo[df_jo['date_difference'].notna()].head(5))\n"
   ]
  },
  {
   "cell_type": "code",
   "execution_count": null,
   "metadata": {},
   "outputs": [],
   "source": [
    "#display(fe_cp['from_date'].notna())\n",
    "#display(fe_cp.loc[fe_cp['from_date'].notna(), 'from_date'])\n",
    "filtered_fe = fe_cp[fe_cp['from_date'].notna()]\n",
    "#display(filtered_fe) #.count)\n",
    "\n",
    "num_files = len(fe_cp[fe_cp['from_date'].notna()])\n",
    "print(f\"Nombre de files no NaT: {num_files}\")\n",
    "\n",
    "display(fe_cp[fe_cp['from_date'].notna()].head(5))\n",
    "display(fe_cp[fe_cp['from_date'].notna()].tail(5))\n",
    "\n",
    "\n"
   ]
  }
 ],
 "metadata": {
  "kernelspec": {
   "display_name": "tensorflow_env",
   "language": "python",
   "name": "python3"
  },
  "language_info": {
   "codemirror_mode": {
    "name": "ipython",
    "version": 3
   },
   "file_extension": ".py",
   "mimetype": "text/x-python",
   "name": "python",
   "nbconvert_exporter": "python",
   "pygments_lexer": "ipython3",
   "version": "3.12.3"
  }
 },
 "nbformat": 4,
 "nbformat_minor": 2
}
